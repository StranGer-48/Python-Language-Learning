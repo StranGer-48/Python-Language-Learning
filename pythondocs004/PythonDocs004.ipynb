{
 "cells": [
  {
   "cell_type": "markdown",
   "id": "completed-withdrawal",
   "metadata": {},
   "source": [
    "# Modules"
   ]
  },
  {
   "cell_type": "markdown",
   "id": "speaking-compiler",
   "metadata": {},
   "source": [
    "If you want to write a somewhat longer program, you are better off using a text editor to prepare the input for the interpreter and running it with that file as input instead. This is known as creating a script. \n",
    "\n",
    "As your program gets longer, you may want to split it into several files for easier maintenance. You may also want to use a handy function that you have written in several programs without copying its definition into each program.\n",
    "\n",
    "To support this, Python has a way to put definitions in a file and use them in a script or in an interactive instance of the interpreter. Sun a file is called a module; definitions from a module can be imported into other modules or into the main module."
   ]
  },
  {
   "cell_type": "code",
   "execution_count": 1,
   "id": "severe-olympus",
   "metadata": {},
   "outputs": [],
   "source": [
    "import fibo"
   ]
  },
  {
   "cell_type": "markdown",
   "id": "legitimate-sister",
   "metadata": {},
   "source": [
    "I created a python file with the name fibo.py in the same directory and called it using import function."
   ]
  },
  {
   "cell_type": "code",
   "execution_count": 2,
   "id": "differential-debate",
   "metadata": {},
   "outputs": [
    {
     "name": "stdout",
     "output_type": "stream",
     "text": [
      "0 1 1 2 3 5 8 13 21 34 55 89 144 233 377 610 987 \n"
     ]
    }
   ],
   "source": [
    "fibo.fib(1000)"
   ]
  },
  {
   "cell_type": "code",
   "execution_count": 3,
   "id": "tough-chain",
   "metadata": {},
   "outputs": [
    {
     "data": {
      "text/plain": [
       "[0, 1, 1, 2, 3, 5, 8, 13, 21, 34, 55, 89]"
      ]
     },
     "execution_count": 3,
     "metadata": {},
     "output_type": "execute_result"
    }
   ],
   "source": [
    "fibo.fib2(100)"
   ]
  },
  {
   "cell_type": "code",
   "execution_count": 4,
   "id": "variable-nicholas",
   "metadata": {},
   "outputs": [
    {
     "name": "stdout",
     "output_type": "stream",
     "text": [
      "0 1 1 2 3 5 8 13 21 34 55 89 144 233 377 \n"
     ]
    }
   ],
   "source": [
    "fib = fibo.fib\n",
    "fib(500)"
   ]
  },
  {
   "cell_type": "markdown",
   "id": "perceived-mongolia",
   "metadata": {},
   "source": [
    "A module can contain executable statements as well as function definitions. These statements are intended to initialize the module. They are executed only the first tome the module name is encountered in an import statement.\n",
    "\n",
    "These is a variant of the import statement that imports names from a module directly into the importing module's symbol table."
   ]
  },
  {
   "cell_type": "code",
   "execution_count": 5,
   "id": "fiscal-leadership",
   "metadata": {},
   "outputs": [
    {
     "name": "stdout",
     "output_type": "stream",
     "text": [
      "0 1 1 2 3 5 8 13 21 34 55 89 144 233 377 \n"
     ]
    }
   ],
   "source": [
    "from fibo import fib, fib2\n",
    "fib(500)"
   ]
  },
  {
   "cell_type": "markdown",
   "id": "arbitrary-thailand",
   "metadata": {},
   "source": [
    "This does not introduce the module name from which the imports are taken in the local symbol table.\n",
    "\n",
    "Ther is even a variant to import all names that a module defines."
   ]
  },
  {
   "cell_type": "code",
   "execution_count": 6,
   "id": "satisfied-interface",
   "metadata": {},
   "outputs": [
    {
     "name": "stdout",
     "output_type": "stream",
     "text": [
      "0 1 1 2 3 5 8 13 21 34 55 89 144 233 377 \n"
     ]
    }
   ],
   "source": [
    "from fibo import *\n",
    "fib(500)"
   ]
  },
  {
   "cell_type": "markdown",
   "id": "metropolitan-heading",
   "metadata": {},
   "source": [
    "This imports all names except those beginning with an underscore(_). In most cases Python programmers do not use this facility since it introduces an unknown set of names into the interpreter, possibly hiding some things you have already defined."
   ]
  },
  {
   "cell_type": "markdown",
   "id": "rural-artist",
   "metadata": {},
   "source": [
    "If the module name is followed by *as*, then the name following as is bound directly to the imported module."
   ]
  },
  {
   "cell_type": "code",
   "execution_count": 7,
   "id": "surprising-stock",
   "metadata": {},
   "outputs": [
    {
     "name": "stdout",
     "output_type": "stream",
     "text": [
      "0 1 1 2 3 5 8 13 21 34 55 89 144 233 377 \n"
     ]
    }
   ],
   "source": [
    "import fibo as fib\n",
    "fib.fib(500)"
   ]
  },
  {
   "cell_type": "markdown",
   "id": "sealed-testimony",
   "metadata": {},
   "source": [
    "## Executing modules as scripts\n",
    "\n",
    "When you run a Python module with\n",
    "\n",
    "`python fibo.py <arguments>`"
   ]
  },
  {
   "cell_type": "code",
   "execution_count": 8,
   "id": "needed-switch",
   "metadata": {},
   "outputs": [],
   "source": [
    "# the code in the module will be executed, \n",
    "#just as if you imported it, but with the __name__ \n",
    "#set to \"__main__\". That means that by adding this \n",
    "#code at the end of the module:"
   ]
  },
  {
   "cell_type": "markdown",
   "id": "parental-treasury",
   "metadata": {},
   "source": [
    "## Standard Modules"
   ]
  },
  {
   "cell_type": "markdown",
   "id": "chinese-anniversary",
   "metadata": {},
   "source": [
    "Some modules are built into the interpreter; these provide access to operations that are not part of the core of the language but are neverthless built in, either for efficiency or to provide access to operating system primitives such as system calls."
   ]
  },
  {
   "cell_type": "code",
   "execution_count": 12,
   "id": "architectural-stack",
   "metadata": {},
   "outputs": [],
   "source": [
    "import sys"
   ]
  },
  {
   "cell_type": "code",
   "execution_count": 13,
   "id": "proper-sound",
   "metadata": {},
   "outputs": [
    {
     "data": {
      "text/plain": [
       "'In : '"
      ]
     },
     "execution_count": 13,
     "metadata": {},
     "output_type": "execute_result"
    }
   ],
   "source": [
    "sys.ps1"
   ]
  },
  {
   "cell_type": "code",
   "execution_count": 14,
   "id": "pretty-bunch",
   "metadata": {},
   "outputs": [
    {
     "data": {
      "text/plain": [
       "'...: '"
      ]
     },
     "execution_count": 14,
     "metadata": {},
     "output_type": "execute_result"
    }
   ],
   "source": [
    "sys.ps2"
   ]
  },
  {
   "cell_type": "code",
   "execution_count": 15,
   "id": "fundamental-background",
   "metadata": {},
   "outputs": [],
   "source": [
    "sys.ps1 = 'C> '"
   ]
  },
  {
   "cell_type": "code",
   "execution_count": 16,
   "id": "chief-demand",
   "metadata": {},
   "outputs": [
    {
     "data": {
      "text/plain": [
       "'C> '"
      ]
     },
     "execution_count": 16,
     "metadata": {},
     "output_type": "execute_result"
    }
   ],
   "source": [
    "sys.ps1"
   ]
  },
  {
   "cell_type": "code",
   "execution_count": 17,
   "id": "urban-extraction",
   "metadata": {},
   "outputs": [],
   "source": [
    "sys.path.append('/yfs/guido/lib/python')"
   ]
  },
  {
   "cell_type": "markdown",
   "id": "crucial-register",
   "metadata": {},
   "source": [
    "## The dir() Function"
   ]
  },
  {
   "cell_type": "markdown",
   "id": "alternate-compression",
   "metadata": {},
   "source": [
    "The built-in function dir() is used to find out which names a modules defines. It returns a sorted list of strings:"
   ]
  },
  {
   "cell_type": "code",
   "execution_count": 19,
   "id": "aging-canon",
   "metadata": {},
   "outputs": [],
   "source": [
    "import fibo, sys"
   ]
  },
  {
   "cell_type": "code",
   "execution_count": 20,
   "id": "trained-token",
   "metadata": {},
   "outputs": [
    {
     "data": {
      "text/plain": [
       "['__builtins__',\n",
       " '__cached__',\n",
       " '__doc__',\n",
       " '__file__',\n",
       " '__loader__',\n",
       " '__name__',\n",
       " '__package__',\n",
       " '__spec__',\n",
       " 'fib',\n",
       " 'fib2']"
      ]
     },
     "execution_count": 20,
     "metadata": {},
     "output_type": "execute_result"
    }
   ],
   "source": [
    "dir(fibo)"
   ]
  },
  {
   "cell_type": "code",
   "execution_count": 21,
   "id": "automotive-argentina",
   "metadata": {},
   "outputs": [
    {
     "data": {
      "text/plain": [
       "['__breakpointhook__',\n",
       " '__displayhook__',\n",
       " '__doc__',\n",
       " '__excepthook__',\n",
       " '__interactivehook__',\n",
       " '__loader__',\n",
       " '__name__',\n",
       " '__package__',\n",
       " '__spec__',\n",
       " '__stderr__',\n",
       " '__stdin__',\n",
       " '__stdout__',\n",
       " '__unraisablehook__',\n",
       " '_base_executable',\n",
       " '_clear_type_cache',\n",
       " '_current_frames',\n",
       " '_debugmallocstats',\n",
       " '_enablelegacywindowsfsencoding',\n",
       " '_framework',\n",
       " '_getframe',\n",
       " '_git',\n",
       " '_home',\n",
       " '_xoptions',\n",
       " 'addaudithook',\n",
       " 'api_version',\n",
       " 'argv',\n",
       " 'audit',\n",
       " 'base_exec_prefix',\n",
       " 'base_prefix',\n",
       " 'breakpointhook',\n",
       " 'builtin_module_names',\n",
       " 'byteorder',\n",
       " 'call_tracing',\n",
       " 'callstats',\n",
       " 'copyright',\n",
       " 'displayhook',\n",
       " 'dllhandle',\n",
       " 'dont_write_bytecode',\n",
       " 'exc_info',\n",
       " 'excepthook',\n",
       " 'exec_prefix',\n",
       " 'executable',\n",
       " 'exit',\n",
       " 'flags',\n",
       " 'float_info',\n",
       " 'float_repr_style',\n",
       " 'get_asyncgen_hooks',\n",
       " 'get_coroutine_origin_tracking_depth',\n",
       " 'getallocatedblocks',\n",
       " 'getcheckinterval',\n",
       " 'getdefaultencoding',\n",
       " 'getfilesystemencodeerrors',\n",
       " 'getfilesystemencoding',\n",
       " 'getprofile',\n",
       " 'getrecursionlimit',\n",
       " 'getrefcount',\n",
       " 'getsizeof',\n",
       " 'getswitchinterval',\n",
       " 'gettrace',\n",
       " 'getwindowsversion',\n",
       " 'hash_info',\n",
       " 'hexversion',\n",
       " 'implementation',\n",
       " 'int_info',\n",
       " 'intern',\n",
       " 'is_finalizing',\n",
       " 'last_traceback',\n",
       " 'last_type',\n",
       " 'last_value',\n",
       " 'maxsize',\n",
       " 'maxunicode',\n",
       " 'meta_path',\n",
       " 'modules',\n",
       " 'path',\n",
       " 'path_hooks',\n",
       " 'path_importer_cache',\n",
       " 'platform',\n",
       " 'prefix',\n",
       " 'ps1',\n",
       " 'ps2',\n",
       " 'ps3',\n",
       " 'pycache_prefix',\n",
       " 'set_asyncgen_hooks',\n",
       " 'set_coroutine_origin_tracking_depth',\n",
       " 'setcheckinterval',\n",
       " 'setprofile',\n",
       " 'setrecursionlimit',\n",
       " 'setswitchinterval',\n",
       " 'settrace',\n",
       " 'stderr',\n",
       " 'stdin',\n",
       " 'stdout',\n",
       " 'thread_info',\n",
       " 'unraisablehook',\n",
       " 'version',\n",
       " 'version_info',\n",
       " 'warnoptions',\n",
       " 'winver']"
      ]
     },
     "execution_count": 21,
     "metadata": {},
     "output_type": "execute_result"
    }
   ],
   "source": [
    "dir(sys)"
   ]
  },
  {
   "cell_type": "markdown",
   "id": "varied-kingston",
   "metadata": {},
   "source": [
    "## Packages"
   ]
  },
  {
   "cell_type": "markdown",
   "id": "potential-spencer",
   "metadata": {},
   "source": [
    "Packages are a way of structuring Python's ,module namespace by using \"dotted module names\". For example, the module name A.B designates a submodules names B in a package named A. Just like the use of modulus saves the authors of different modules from having to worry about each other's global variable names, the use of dotted module names saves the authors of multi-module packages like NumPy or Pillow from having to worry about each other's module names."
   ]
  },
  {
   "cell_type": "markdown",
   "id": "coupled-thumbnail",
   "metadata": {},
   "source": [
    "The \\_\\_init\\_\\_.py files are required to make Python treat directories containing the file as packages. This prevents directories with a common name, such as string, unintentionally hiding valid modules that occur later on the module search path. In the simplest case, \\_\\_init\\_\\_.py can just be an empty file, but can also execute initialization code for the package or set the \\_\\_all\\_\\_ variable."
   ]
  },
  {
   "cell_type": "code",
   "execution_count": null,
   "id": "imperial-appliance",
   "metadata": {},
   "outputs": [],
   "source": []
  }
 ],
 "metadata": {
  "kernelspec": {
   "display_name": "Python 3",
   "language": "python",
   "name": "python3"
  },
  "language_info": {
   "codemirror_mode": {
    "name": "ipython",
    "version": 3
   },
   "file_extension": ".py",
   "mimetype": "text/x-python",
   "name": "python",
   "nbconvert_exporter": "python",
   "pygments_lexer": "ipython3",
   "version": "3.8.5"
  }
 },
 "nbformat": 4,
 "nbformat_minor": 5
}
