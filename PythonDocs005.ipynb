{
 "cells": [
  {
   "cell_type": "markdown",
   "id": "purple-report",
   "metadata": {},
   "source": [
    "# Input and Output"
   ]
  },
  {
   "cell_type": "markdown",
   "id": "considerable-steal",
   "metadata": {},
   "source": [
    "Ther are several ways to present the output of a program; data can be printed in a human-readable form, or written to a file for future use."
   ]
  },
  {
   "cell_type": "markdown",
   "id": "reverse-production",
   "metadata": {},
   "source": [
    "## Fancier Output Formatting"
   ]
  },
  {
   "cell_type": "markdown",
   "id": "hybrid-spotlight",
   "metadata": {},
   "source": [
    "So far we have encounted two ways of writting values: expression statements and the print() function.\n",
    "\n",
    "Often you will want more control over the formatting of your output than simply printing space-separated values. There are several ways to format output.\n",
    "\n",
    "    1. To use formatted string literals, begin a string with f or F before thr opening quotation mark or triple quotation mark. Inside this string, you can write a Python expression between { and } characters that can refer to variables or literal values."
   ]
  },
  {
   "cell_type": "code",
   "execution_count": 1,
   "id": "bizarre-capacity",
   "metadata": {},
   "outputs": [
    {
     "name": "stdout",
     "output_type": "stream",
     "text": [
      "This 2020 New Year is most memorable\n"
     ]
    }
   ],
   "source": [
    "year = 2020\n",
    "event = \"New Year\"\n",
    "print(f\"This {year} {event} is most memorable\")"
   ]
  },
  {
   "cell_type": "markdown",
   "id": "married-musical",
   "metadata": {},
   "source": [
    "Other modifiers can be used to convert the value before it is formatted. '!a' applies ascii(), '!s' applies str(), and '!r' applies repr():"
   ]
  },
  {
   "cell_type": "code",
   "execution_count": 6,
   "id": "generic-distributor",
   "metadata": {},
   "outputs": [
    {
     "name": "stdout",
     "output_type": "stream",
     "text": [
      "My hovercraft is full of eels.\n"
     ]
    }
   ],
   "source": [
    "animals = 'eels'\n",
    "print(f'My hovercraft is full of {animals}.')"
   ]
  },
  {
   "cell_type": "code",
   "execution_count": 7,
   "id": "desperate-freeware",
   "metadata": {},
   "outputs": [
    {
     "name": "stdout",
     "output_type": "stream",
     "text": [
      "My hovercraft is full of 'eels'.\n"
     ]
    }
   ],
   "source": [
    "print(f'My hovercraft is full of {animals!r}.')"
   ]
  },
  {
   "cell_type": "markdown",
   "id": "sealed-sandwich",
   "metadata": {},
   "source": [
    "    2. The str.format() method of strings requires more manual effort. You will still use { and } to mark where a variable will be substituted and can provide detailed formatting directives, but you'll also need to provide the information to be formatted."
   ]
  },
  {
   "cell_type": "code",
   "execution_count": 2,
   "id": "opposite-guard",
   "metadata": {},
   "outputs": [],
   "source": [
    "yes_votes = 42_572_654\n",
    "no_votes = 43_132_495\n",
    "percentage = yes_votes/ (yes_votes + no_votes)"
   ]
  },
  {
   "cell_type": "code",
   "execution_count": 5,
   "id": "banner-trout",
   "metadata": {},
   "outputs": [
    {
     "name": "stdout",
     "output_type": "stream",
     "text": [
      " 42572654 Yes votes 49.67%\n"
     ]
    }
   ],
   "source": [
    "print('{:-9} Yes votes {:2.2%}'.format(yes_votes, percentage))"
   ]
  },
  {
   "cell_type": "markdown",
   "id": "wicked-nancy",
   "metadata": {},
   "source": [
    "Passing an integer after the ':' will cause that field to be a minimum number of characters wide. This is useful for making columns line up."
   ]
  },
  {
   "cell_type": "markdown",
   "id": "muslim-poverty",
   "metadata": {},
   "source": [
    "If keyword arguments are used in the str.format() method, their values are referred to by using the name of the argument."
   ]
  },
  {
   "cell_type": "code",
   "execution_count": 8,
   "id": "prostate-battlefield",
   "metadata": {},
   "outputs": [
    {
     "name": "stdout",
     "output_type": "stream",
     "text": [
      "This spam is absolutely horrible.\n"
     ]
    }
   ],
   "source": [
    "print('This {food} is {adjective}.'.format(food='spam', adjective='absolutely horrible'))"
   ]
  },
  {
   "cell_type": "markdown",
   "id": "refined-myrtle",
   "metadata": {},
   "source": [
    "    3. Finally, you can do all the string handling yourself by using slicing and concatenation operations to create any layout you can imagine. The string type has some methods that perform useful operations for padding strings to a given column width."
   ]
  },
  {
   "cell_type": "markdown",
   "id": "missing-knitting",
   "metadata": {},
   "source": [
    "## Reading and Writing Files"
   ]
  },
  {
   "cell_type": "markdown",
   "id": "infectious-camel",
   "metadata": {},
   "source": [
    "*open()* returns a file object, and is most commonly used with two arguments: `open(filename, mode)`"
   ]
  },
  {
   "cell_type": "code",
   "execution_count": 9,
   "id": "vanilla-rebound",
   "metadata": {},
   "outputs": [],
   "source": [
    "f = open('workfile', 'w')"
   ]
  },
  {
   "cell_type": "markdown",
   "id": "beneficial-region",
   "metadata": {},
   "source": [
    "The first argument is a string containing the filename. The secind argument is another string containing a few characters describing the way in which the file will be used. *mode* can be `'r'` when the file will only be read, `'w'` for only writing ( an existing file with the same name will be erased), and `'a'` opens the file for appending; any data written to the file is automatically added to the end. `'r+'` opens the file for both reading and writing. The mode argument is optional; `'r'` will be assumed if it's omitted."
   ]
  },
  {
   "cell_type": "markdown",
   "id": "exterior-choice",
   "metadata": {},
   "source": [
    "It is good practice to use the `with` keyword when dealing with file objects. The advantage is that the file is properly closed after its suite finishes, even if an exception is raised at some point."
   ]
  },
  {
   "cell_type": "code",
   "execution_count": 18,
   "id": "mysterious-opera",
   "metadata": {},
   "outputs": [],
   "source": [
    "with open('workfile') as f:\n",
    "    read_data = f.read()"
   ]
  },
  {
   "cell_type": "code",
   "execution_count": 11,
   "id": "considerable-motivation",
   "metadata": {},
   "outputs": [
    {
     "data": {
      "text/plain": [
       "True"
      ]
     },
     "execution_count": 11,
     "metadata": {},
     "output_type": "execute_result"
    }
   ],
   "source": [
    "f.closed"
   ]
  },
  {
   "cell_type": "markdown",
   "id": "embedded-sector",
   "metadata": {},
   "source": [
    "If you re not using the `with` keyword, then you should call `f.close()` to close the file and immediately free up any system resources used by it."
   ]
  },
  {
   "cell_type": "markdown",
   "id": "elect-polish",
   "metadata": {},
   "source": [
    "### Methods of File Objects"
   ]
  },
  {
   "cell_type": "code",
   "execution_count": 21,
   "id": "negative-bunny",
   "metadata": {},
   "outputs": [
    {
     "name": "stdout",
     "output_type": "stream",
     "text": [
      "Hello\n",
      "Hi\n",
      "Namasthi\n",
      "This is Sriram\n"
     ]
    }
   ],
   "source": [
    "with open('workfile') as f:\n",
    "    print(f.read())"
   ]
  },
  {
   "cell_type": "code",
   "execution_count": 23,
   "id": "polar-laugh",
   "metadata": {},
   "outputs": [
    {
     "name": "stdout",
     "output_type": "stream",
     "text": [
      "Hello\n",
      "\n",
      "Hi\n",
      "\n"
     ]
    }
   ],
   "source": [
    "with open('workfile') as f:\n",
    "    print(f.readline())\n",
    "    print(f.readline())"
   ]
  },
  {
   "cell_type": "code",
   "execution_count": 24,
   "id": "similar-magic",
   "metadata": {},
   "outputs": [
    {
     "name": "stdout",
     "output_type": "stream",
     "text": [
      "Hello\n",
      "Hi\n",
      "Namasthi\n",
      "This is Sriram"
     ]
    }
   ],
   "source": [
    "with open('workfile') as f:\n",
    "    for line in f:\n",
    "        print(line, end='')"
   ]
  },
  {
   "cell_type": "code",
   "execution_count": 26,
   "id": "sublime-transformation",
   "metadata": {},
   "outputs": [],
   "source": [
    "with open('workfile', 'r+') as f:\n",
    "    f.write(\"It my Input and Output Python Docs Tutorial\\n\")"
   ]
  },
  {
   "cell_type": "code",
   "execution_count": 27,
   "id": "desperate-dispute",
   "metadata": {},
   "outputs": [],
   "source": [
    "f = open('workfile', 'w')"
   ]
  },
  {
   "cell_type": "code",
   "execution_count": 29,
   "id": "posted-keyboard",
   "metadata": {},
   "outputs": [
    {
     "data": {
      "text/plain": [
       "13"
      ]
     },
     "execution_count": 29,
     "metadata": {},
     "output_type": "execute_result"
    }
   ],
   "source": [
    "f.write('This is test\\n')"
   ]
  },
  {
   "cell_type": "code",
   "execution_count": 30,
   "id": "industrial-sweet",
   "metadata": {},
   "outputs": [
    {
     "data": {
      "text/plain": [
       "18"
      ]
     },
     "execution_count": 30,
     "metadata": {},
     "output_type": "execute_result"
    }
   ],
   "source": [
    "value = ('the answer', 42)\n",
    "s = str(value)\n",
    "f.write(s)"
   ]
  },
  {
   "cell_type": "markdown",
   "id": "specialized-charity",
   "metadata": {},
   "source": [
    "### Saving structure data with *json*"
   ]
  },
  {
   "cell_type": "markdown",
   "id": "foreign-wayne",
   "metadata": {},
   "source": [
    "When you want to save some complex data types like nested lists and dictionaries, parsing and serializing by hand becomes complicated.\n",
    "\n",
    "The standard module called *json* can take Python data hierarchiss, and convert them to string representations; this process is called **serializing**.\n",
    "\n",
    "Reconstructing the data from the string representation is called **deserializing**. Between serializing and deserializing, the string representating the object may have been stored in a file or data, or sent over a network connection to some distant machine."
   ]
  },
  {
   "cell_type": "code",
   "execution_count": 31,
   "id": "flying-amino",
   "metadata": {},
   "outputs": [
    {
     "data": {
      "text/plain": [
       "'[1, \"simple\", \"list\"]'"
      ]
     },
     "execution_count": 31,
     "metadata": {},
     "output_type": "execute_result"
    }
   ],
   "source": [
    "import json\n",
    "json.dumps([1,'simple', 'list'])"
   ]
  },
  {
   "cell_type": "code",
   "execution_count": 32,
   "id": "needed-stranger",
   "metadata": {},
   "outputs": [],
   "source": [
    "x = json.dumps([1, 'simple', 'list'])"
   ]
  },
  {
   "cell_type": "markdown",
   "id": "rational-lithuania",
   "metadata": {},
   "source": [
    "Another variant of the *dumps()* function, called *dump()*, simply serialize the object to a text file. So if `f` is a text file object opened for writting, we can do this: "
   ]
  },
  {
   "cell_type": "code",
   "execution_count": 49,
   "id": "single-webmaster",
   "metadata": {},
   "outputs": [],
   "source": [
    "json.dump(x, f)"
   ]
  }
 ],
 "metadata": {
  "kernelspec": {
   "display_name": "Python 3",
   "language": "python",
   "name": "python3"
  },
  "language_info": {
   "codemirror_mode": {
    "name": "ipython",
    "version": 3
   },
   "file_extension": ".py",
   "mimetype": "text/x-python",
   "name": "python",
   "nbconvert_exporter": "python",
   "pygments_lexer": "ipython3",
   "version": "3.8.5"
  }
 },
 "nbformat": 4,
 "nbformat_minor": 5
}
