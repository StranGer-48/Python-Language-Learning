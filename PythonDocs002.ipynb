{
 "cells": [
  {
   "cell_type": "markdown",
   "id": "continuing-billion",
   "metadata": {},
   "source": [
    "# Control Flow Programming"
   ]
  },
  {
   "cell_type": "markdown",
   "id": "liquid-today",
   "metadata": {},
   "source": [
    "Topics covered in this tutorial are: \n",
    "\n",
    "   * Compound Statements\n",
    "   * *if* Statements  \n",
    "   * *while* Statements  \n",
    "   * *for* Statements  \n",
    "   * *range()* Funciton  \n",
    "   * *break* and *continue* Statements and *else* Clauses on Loops  \n",
    "   * *pass* Statements  \n",
    "   * Functions       "
   ]
  },
  {
   "cell_type": "markdown",
   "id": "reduced-french",
   "metadata": {},
   "source": [
    "## Compound Statements"
   ]
  },
  {
   "cell_type": "markdown",
   "id": "alpha-empty",
   "metadata": {},
   "source": [
    "Compound statements span multiple lines, although in simple incarnations a whole compound statement may be contained in one line. The if, while and for statements implement traditional control flow constructs."
   ]
  },
  {
   "cell_type": "markdown",
   "id": "appropriate-louisiana",
   "metadata": {},
   "source": [
    "A compound statement consists of one or more ‘clauses.’ \n",
    "\n",
    "A clause consists of a header and a ‘suite.’ \n",
    "\n",
    "The clause headers of a particular compound statement are all at the same indentation level. \n",
    "\n",
    "Each clause header begins with a uniquely identifying keyword and ends with a colon. \n",
    "\n",
    "A suite is a group of statements controlled by a clause. \n",
    "\n",
    "A suite can be one or more semicolon-separated simple statements on the same line as the header, following the header’s colon, or it can be one or more indented statements on subsequent lines."
   ]
  },
  {
   "cell_type": "markdown",
   "id": "premier-genre",
   "metadata": {},
   "source": [
    "## *if* Statements"
   ]
  },
  {
   "cell_type": "markdown",
   "id": "cosmetic-collective",
   "metadata": {},
   "source": [
    "The if statement is used for conditional execution: "
   ]
  },
  {
   "cell_type": "code",
   "execution_count": 2,
   "id": "organic-evanescence",
   "metadata": {},
   "outputs": [],
   "source": [
    "# if assignment_expression:\n",
    "#     suite\n",
    "# elif assignment_expression:\n",
    "#     suite\n",
    "# else:\n",
    "#     suite"
   ]
  },
  {
   "cell_type": "markdown",
   "id": "south-shoulder",
   "metadata": {},
   "source": [
    "It selects exactly one of the suites by evaluating the expressions one by one until one is found to be true; then that suite is executed (and no other part of the if statement is executed or evaluated). If all expressions are false, the suite of the else clause, if present, is executed."
   ]
  },
  {
   "cell_type": "code",
   "execution_count": 4,
   "id": "agreed-service",
   "metadata": {},
   "outputs": [
    {
     "name": "stdout",
     "output_type": "stream",
     "text": [
      "Please enter an integer: 6\n",
      "More\n"
     ]
    }
   ],
   "source": [
    "x = int(input(\"Please enter an integer: \"))\n",
    "\n",
    "if x < 0:\n",
    "    x = 0\n",
    "    print('Neagtive change to zero')\n",
    "elif x == 0:\n",
    "    print('Zero')\n",
    "elif x == 1:\n",
    "    print('Single')\n",
    "else:\n",
    "    print('More')"
   ]
  },
  {
   "cell_type": "markdown",
   "id": "standard-richmond",
   "metadata": {},
   "source": [
    "There can be zero or more elif parts, and the else part is optional. The keyword ‘elif’ is short for ‘else if’, and is useful to avoid excessive indentation. An if … elif … elif … sequence is a substitute for the switch or case statements found in other languages."
   ]
  },
  {
   "cell_type": "markdown",
   "id": "sustained-wound",
   "metadata": {},
   "source": [
    "## *while* Statements"
   ]
  },
  {
   "cell_type": "markdown",
   "id": "acting-retailer",
   "metadata": {},
   "source": [
    "The while statement is used for repeated execution as long as an expression is true:"
   ]
  },
  {
   "cell_type": "code",
   "execution_count": 5,
   "id": "empirical-equation",
   "metadata": {},
   "outputs": [],
   "source": [
    "# while assignment_expression:\n",
    "#     suite\n",
    "# else:\n",
    "#     suite"
   ]
  },
  {
   "cell_type": "markdown",
   "id": "desirable-bottle",
   "metadata": {},
   "source": [
    "This repeatedly tests the expression and, if it is true, executes the first suite; if the expression is false (which may be the first time it is tested) the suite of the else clause, if present, is executed and the loop terminates."
   ]
  },
  {
   "cell_type": "markdown",
   "id": "individual-jacksonville",
   "metadata": {},
   "source": [
    "A break statement executed in the first suite terminates the loop without executing the else clause’s suite. A continue statement executed in the first suite skips the rest of the suite and goes back to testing the expression."
   ]
  },
  {
   "cell_type": "code",
   "execution_count": 6,
   "id": "ignored-upper",
   "metadata": {},
   "outputs": [
    {
     "name": "stdout",
     "output_type": "stream",
     "text": [
      "0\n",
      "1\n",
      "1\n",
      "2\n",
      "3\n",
      "5\n",
      "8\n"
     ]
    }
   ],
   "source": [
    "# Fibonacci series\n",
    "a,b = 0,1\n",
    "while a < 10:\n",
    "    print(a)\n",
    "    a,b = b,a+b"
   ]
  },
  {
   "cell_type": "markdown",
   "id": "familiar-doubt",
   "metadata": {},
   "source": [
    "The while loop executes as long as the condition (here: a < 10) remains true.\n",
    "\n",
    "The condition may also be a string or list value, in fact any sequence; anything with a non-zero length is true, empty sequences are false."
   ]
  },
  {
   "cell_type": "markdown",
   "id": "seasonal-vegetarian",
   "metadata": {},
   "source": [
    "## *for* Statements"
   ]
  },
  {
   "cell_type": "markdown",
   "id": "missing-police",
   "metadata": {},
   "source": [
    "The for statement is used to iterate over the elements of a sequence (such as a string, tuple or list) or other iterable object:"
   ]
  },
  {
   "cell_type": "code",
   "execution_count": 8,
   "id": "permanent-adolescent",
   "metadata": {},
   "outputs": [],
   "source": [
    "# for target_list in expression_list:\n",
    "#     suite\n",
    "# else:\n",
    "#     suite"
   ]
  },
  {
   "cell_type": "markdown",
   "id": "hindu-honor",
   "metadata": {},
   "source": [
    "The expression list is evaluated once; it should yield an iterable object. \n",
    "\n",
    "An iterator is created for the result of the expression_list. \n",
    "\n",
    "The suite is then executed once for each item provided by the iterator, in the order returned by the iterator. \n",
    "\n",
    "Each item in turn is assigned to the target list using the standard rules for assignments, and then the suite is executed. When the items are exhausted, the suite in the else clause, if present, is executed, and the loop terminates.\n",
    "\n",
    "A break statement executed in the first suite terminates the loop without executing the else clause’s suite. A continue statement executed in the first suite skips the rest of the suite and continues with the next item, or with the else clause if there is no next item.\n",
    "\n",
    "Lets measure some strings:"
   ]
  },
  {
   "cell_type": "code",
   "execution_count": 9,
   "id": "stuck-choice",
   "metadata": {},
   "outputs": [
    {
     "name": "stdout",
     "output_type": "stream",
     "text": [
      "cats 4\n",
      "window 6\n",
      "defenestrate 12\n"
     ]
    }
   ],
   "source": [
    "words = ['cats', 'window','defenestrate']\n",
    "for word in words:\n",
    "    print(word, len(word))"
   ]
  },
  {
   "cell_type": "markdown",
   "id": "filled-midwest",
   "metadata": {},
   "source": [
    "Code that modifies a collection while iterating over that same collection can be tricky to get right. Instead, it is usually more straight-forward to loop over a copy of the collection or to create a new collection:"
   ]
  },
  {
   "cell_type": "code",
   "execution_count": 10,
   "id": "underlying-temple",
   "metadata": {},
   "outputs": [],
   "source": [
    "# Iterate over copy\n",
    "words = ['cats', 'window','defenestrate']\n",
    "for i,word in enumerate(words):\n",
    "    if len(word) == 12:\n",
    "        del words[i]"
   ]
  },
  {
   "cell_type": "code",
   "execution_count": 11,
   "id": "interior-digit",
   "metadata": {},
   "outputs": [],
   "source": [
    "# Create a new collection\n",
    "words = ['cats', 'window','defenestrate']\n",
    "collection = []\n",
    "for i,word in enumerate(words):\n",
    "    if len(word) != 12:\n",
    "        collection.append(word)"
   ]
  },
  {
   "cell_type": "code",
   "execution_count": 12,
   "id": "sharing-campbell",
   "metadata": {},
   "outputs": [
    {
     "data": {
      "text/plain": [
       "['cats', 'window']"
      ]
     },
     "execution_count": 12,
     "metadata": {},
     "output_type": "execute_result"
    }
   ],
   "source": [
    "collection"
   ]
  },
  {
   "cell_type": "markdown",
   "id": "individual-atmosphere",
   "metadata": {},
   "source": [
    "## The *range()* Function"
   ]
  },
  {
   "cell_type": "markdown",
   "id": "auburn-culture",
   "metadata": {},
   "source": [
    "If you do need to iterate over a sequence of numbers, the built-in function range() comes in handy. It generates arithmetic progressions:"
   ]
  },
  {
   "cell_type": "code",
   "execution_count": 13,
   "id": "gothic-playback",
   "metadata": {},
   "outputs": [
    {
     "name": "stdout",
     "output_type": "stream",
     "text": [
      "0\n",
      "1\n",
      "2\n",
      "3\n",
      "4\n"
     ]
    }
   ],
   "source": [
    "for i in range(5):\n",
    "    print(i)"
   ]
  },
  {
   "cell_type": "markdown",
   "id": "prompt-venue",
   "metadata": {},
   "source": [
    "The given end point is never part of the generated sequence; range(10) generates 10 values, the legal indices for items of a sequence of length 10. It is possible to let the range start at another number, or to specify a different increment (even negative; sometimes this is called the ‘step’):"
   ]
  },
  {
   "cell_type": "code",
   "execution_count": 14,
   "id": "reserved-minimum",
   "metadata": {},
   "outputs": [
    {
     "name": "stdout",
     "output_type": "stream",
     "text": [
      "5 6 7 8 9 "
     ]
    }
   ],
   "source": [
    "for i in range(5,10):\n",
    "    print(i, end=' ')"
   ]
  },
  {
   "cell_type": "code",
   "execution_count": 15,
   "id": "deadly-eagle",
   "metadata": {},
   "outputs": [
    {
     "name": "stdout",
     "output_type": "stream",
     "text": [
      "0 3 6 9 "
     ]
    }
   ],
   "source": [
    "for i in range(0,10,3):\n",
    "    print(i, end=' ')"
   ]
  },
  {
   "cell_type": "code",
   "execution_count": 16,
   "id": "fifty-custom",
   "metadata": {},
   "outputs": [
    {
     "name": "stdout",
     "output_type": "stream",
     "text": [
      "-10 -40 -70 "
     ]
    }
   ],
   "source": [
    "for i in range(-10,-100,-30):\n",
    "    print(i, end=' ')"
   ]
  },
  {
   "cell_type": "markdown",
   "id": "amazing-greece",
   "metadata": {},
   "source": [
    "To iterate over the indices of a sequence, you can combine range() and len() as follows:"
   ]
  },
  {
   "cell_type": "code",
   "execution_count": 17,
   "id": "explicit-steal",
   "metadata": {},
   "outputs": [],
   "source": [
    "a = ['Mary', 'had', 'a', 'little', 'lamb']"
   ]
  },
  {
   "cell_type": "code",
   "execution_count": 18,
   "id": "coated-scout",
   "metadata": {},
   "outputs": [
    {
     "name": "stdout",
     "output_type": "stream",
     "text": [
      "0 Mary\n",
      "1 had\n",
      "2 a\n",
      "3 little\n",
      "4 lamb\n"
     ]
    }
   ],
   "source": [
    "for i in range(len(a)):\n",
    "    print(i, a[i])"
   ]
  },
  {
   "cell_type": "markdown",
   "id": "adjusted-fairy",
   "metadata": {},
   "source": [
    "## *break* and *continue* Statements, and *else* Clause on Loops"
   ]
  },
  {
   "cell_type": "markdown",
   "id": "unavailable-sensitivity",
   "metadata": {},
   "source": [
    "break and continue may only occur syntactically nested in a for or while loop. \n",
    "\n",
    "break statement teminates the nearest enclosing loop, skipping the optional else clause if the loop has one.\n",
    "\n",
    "continue statement continues with the next cycle of the nearest enclosing loop"
   ]
  },
  {
   "cell_type": "markdown",
   "id": "armed-tumor",
   "metadata": {},
   "source": [
    "If a for loop is terminated by break, the loop control target keeps its current value.\n",
    "\n",
    "Loop statements may have an else clause; it is executed when the loop terminates through exhaustion of the iterable (with for) or when the condition becomes false (with while), but not when the loop is terminated by a break statement. This is exemplified by the following loop, which searches for prime numbers:"
   ]
  },
  {
   "cell_type": "code",
   "execution_count": 19,
   "id": "pregnant-netscape",
   "metadata": {},
   "outputs": [
    {
     "name": "stdout",
     "output_type": "stream",
     "text": [
      "2 is a prime number\n",
      "3 is a prime number\n",
      "4 equals 2 * 2\n",
      "5 is a prime number\n",
      "6 equals 2 * 3\n",
      "7 is a prime number\n",
      "8 equals 2 * 4\n",
      "9 equals 3 * 3\n"
     ]
    }
   ],
   "source": [
    "for n in range(2,10):\n",
    "    for x in range(2,n):\n",
    "        if n % x == 0:\n",
    "            print(n, 'equals', x, '*', n//x)\n",
    "            break\n",
    "    else:\n",
    "        # loop fell through without finding a factor\n",
    "        print(n, 'is a prime number')"
   ]
  },
  {
   "cell_type": "code",
   "execution_count": 20,
   "id": "continuing-prison",
   "metadata": {},
   "outputs": [
    {
     "name": "stdout",
     "output_type": "stream",
     "text": [
      "Found an even number 2\n",
      "Found an odd number 3\n",
      "Found an even number 4\n",
      "Found an odd number 5\n",
      "Found an even number 6\n",
      "Found an odd number 7\n",
      "Found an even number 8\n",
      "Found an odd number 9\n"
     ]
    }
   ],
   "source": [
    "for num in range(2,10):\n",
    "    if num % 2 == 0:\n",
    "        print(\"Found an even number\", num)\n",
    "        continue\n",
    "    print(\"Found an odd number\", num)"
   ]
  },
  {
   "cell_type": "code",
   "execution_count": 21,
   "id": "stylish-spread",
   "metadata": {},
   "outputs": [
    {
     "name": "stdout",
     "output_type": "stream",
     "text": [
      "0 1 2 3 4 "
     ]
    }
   ],
   "source": [
    "for i in range(10):\n",
    "    if i == 5:\n",
    "        break\n",
    "    print(i, end=' ')"
   ]
  },
  {
   "cell_type": "code",
   "execution_count": 22,
   "id": "optical-april",
   "metadata": {},
   "outputs": [
    {
     "name": "stdout",
     "output_type": "stream",
     "text": [
      "0 1 2 3 4 6 7 8 9 "
     ]
    }
   ],
   "source": [
    "for i in range(10):\n",
    "    if i == 5:\n",
    "        continue\n",
    "    print(i, end=' ')"
   ]
  },
  {
   "cell_type": "markdown",
   "id": "broad-chuck",
   "metadata": {},
   "source": [
    "## *pass* Statements"
   ]
  },
  {
   "cell_type": "markdown",
   "id": "uniform-cargo",
   "metadata": {},
   "source": [
    "pass is a null operation — when it is executed, nothing happens. It is useful as a placeholder when a statement is required syntactically, but no code needs to be executed, for example:"
   ]
  },
  {
   "cell_type": "code",
   "execution_count": 23,
   "id": "fiscal-accounting",
   "metadata": {},
   "outputs": [
    {
     "ename": "KeyboardInterrupt",
     "evalue": "",
     "output_type": "error",
     "traceback": [
      "\u001b[1;31m---------------------------------------------------------------------------\u001b[0m",
      "\u001b[1;31mKeyboardInterrupt\u001b[0m                         Traceback (most recent call last)",
      "\u001b[1;32m<ipython-input-23-6c897b726cee>\u001b[0m in \u001b[0;36m<module>\u001b[1;34m\u001b[0m\n\u001b[0;32m      1\u001b[0m \u001b[1;32mwhile\u001b[0m \u001b[1;32mTrue\u001b[0m\u001b[1;33m:\u001b[0m\u001b[1;33m\u001b[0m\u001b[1;33m\u001b[0m\u001b[0m\n\u001b[1;32m----> 2\u001b[1;33m     \u001b[1;32mpass\u001b[0m \u001b[1;31m# Busy-wait for keyboard interrupt (Ctrl+C)\u001b[0m\u001b[1;33m\u001b[0m\u001b[1;33m\u001b[0m\u001b[0m\n\u001b[0m",
      "\u001b[1;31mKeyboardInterrupt\u001b[0m: "
     ]
    }
   ],
   "source": [
    "while True:\n",
    "    pass # Busy-wait for keyboard interrupt (Ctrl+C)"
   ]
  },
  {
   "cell_type": "markdown",
   "id": "stopped-burning",
   "metadata": {},
   "source": [
    "This is commonly used for creating minimal classes:"
   ]
  },
  {
   "cell_type": "code",
   "execution_count": 24,
   "id": "incident-scenario",
   "metadata": {},
   "outputs": [],
   "source": [
    "class MyEmptyClass:\n",
    "    pass"
   ]
  },
  {
   "cell_type": "markdown",
   "id": "greek-factor",
   "metadata": {},
   "source": [
    "## Functions"
   ]
  },
  {
   "cell_type": "markdown",
   "id": "pressing-technique",
   "metadata": {},
   "source": [
    "A function definition defines a user-defined function object:\n",
    "\n",
    "A function definition is an executable statement. Its execution binds the function name in the current local namespace to a function object (a wrapper around the executable code for the function). This function object contains a reference to the current global namespace as the global namespace to be used when the function is called.\n",
    "\n",
    "Default parameter values are evaluated from left to right when the function definition is executed. This means that the expression is evaluated once, when the function is defined, and that the same “pre-computed” value is used for each call. This is especially important to understand when a default parameter is a mutable object, such as a list or a dictionary: if the function modifies the object (e.g. by appending an item to a list), the default value is in effect modified. This is generally not what was intended.\n",
    "\n",
    "### Python identifiers\n",
    " \n",
    "An identifier is a name given to entities like class, function, variables, etc. It helps to differentiate one entity from another.\n",
    "\n",
    "**Rules for writing identifiers**\n",
    "1. Identifiers can be a combination of letters in lowercase (a to z) or uppercase (A to Z) or digits (0 to 9) or an underscore _. Names like myClass, var_1 and print_this_to_screen, all are valid example.  \n",
    "2. An identifier cannot start with a digit. 1variable is invalid, but variable1 is a valid name.  \n",
    "3. Keywords cannot be used as identifiers.  \n",
    "4. We cannot use special symbols like !, @, #, $, % etc. in our identifier.  \n",
    "5. An identifier can be of any length.\n"
   ]
  },
  {
   "cell_type": "markdown",
   "id": "caroline-majority",
   "metadata": {},
   "source": [
    "We can create a function that writes the fibonacci series to an arbitary boundary:"
   ]
  },
  {
   "cell_type": "code",
   "execution_count": 25,
   "id": "strategic-uruguay",
   "metadata": {},
   "outputs": [],
   "source": [
    "def fib(n):\n",
    "    a, b = 0, 1\n",
    "    while a < n:\n",
    "        print(a, end=',')\n",
    "        a,b = b, a+b\n",
    "    print()"
   ]
  },
  {
   "cell_type": "code",
   "execution_count": 26,
   "id": "regular-thesaurus",
   "metadata": {},
   "outputs": [
    {
     "name": "stdout",
     "output_type": "stream",
     "text": [
      "0,1,1,2,3,5,8,13,21,34,55,89,144,\n"
     ]
    }
   ],
   "source": [
    "fib(200)"
   ]
  },
  {
   "cell_type": "markdown",
   "id": "heavy-infection",
   "metadata": {},
   "source": [
    "A function definition assosiates the function name with the function object in the current symbol table. The interpreter recognizes the object pointed to by that name as a user-defined function."
   ]
  },
  {
   "cell_type": "code",
   "execution_count": 27,
   "id": "clear-tackle",
   "metadata": {},
   "outputs": [
    {
     "data": {
      "text/plain": [
       "<function __main__.fib(n)>"
      ]
     },
     "execution_count": 27,
     "metadata": {},
     "output_type": "execute_result"
    }
   ],
   "source": [
    "fib"
   ]
  },
  {
   "cell_type": "code",
   "execution_count": 28,
   "id": "guilty-welsh",
   "metadata": {},
   "outputs": [
    {
     "name": "stdout",
     "output_type": "stream",
     "text": [
      "0,1,1,2,3,5,8,13,21,34,55,89,\n"
     ]
    }
   ],
   "source": [
    "f = fib\n",
    "f(100)"
   ]
  },
  {
   "cell_type": "markdown",
   "id": "finished-portuguese",
   "metadata": {},
   "source": [
    "Function without a return statement do return a None value."
   ]
  },
  {
   "cell_type": "code",
   "execution_count": 29,
   "id": "practical-mason",
   "metadata": {},
   "outputs": [
    {
     "name": "stdout",
     "output_type": "stream",
     "text": [
      "\n",
      "None\n"
     ]
    }
   ],
   "source": [
    "print(f(0))"
   ]
  },
  {
   "cell_type": "markdown",
   "id": "meaningful-worse",
   "metadata": {},
   "source": [
    "It is simple to write a function that returns a list of numbers of the Fibonacci series, instead of printing."
   ]
  },
  {
   "cell_type": "code",
   "execution_count": 30,
   "id": "offensive-tradition",
   "metadata": {},
   "outputs": [],
   "source": [
    "def fib2(n):\n",
    "    result = []\n",
    "    a, b = 0, 1\n",
    "    while a < n:\n",
    "        result.append(a)\n",
    "        a, b = b, a+b\n",
    "    return result\n",
    "    "
   ]
  },
  {
   "cell_type": "code",
   "execution_count": 31,
   "id": "hybrid-brisbane",
   "metadata": {},
   "outputs": [
    {
     "name": "stdout",
     "output_type": "stream",
     "text": [
      "[0, 1, 1, 2, 3, 5, 8, 13, 21, 34, 55, 89]\n"
     ]
    }
   ],
   "source": [
    "f100 = fib2(100)\n",
    "print(f100)"
   ]
  },
  {
   "cell_type": "markdown",
   "id": "wooden-headquarters",
   "metadata": {},
   "source": [
    "### Python Decorators\n",
    "\n",
    "A decorator takes in a function, add some functionality and returns it.\n",
    "\n",
    "This is also called metaprogramming because a part of the program tries to modify another part of the program at compile time.\n",
    "\n",
    "Functions and methods are called callable as they can be called.\n",
    "\n",
    "in fact, any object which implements the special __call__() method is termed callable. So, in the most basic sense, a decorator is a callable that returns a callable."
   ]
  },
  {
   "cell_type": "code",
   "execution_count": 32,
   "id": "connected-fraud",
   "metadata": {},
   "outputs": [],
   "source": [
    "def make_pretty(func):\n",
    "    def inner():\n",
    "        print(\"I got decorated\")\n",
    "        func()\n",
    "    return inner"
   ]
  },
  {
   "cell_type": "code",
   "execution_count": 33,
   "id": "frozen-storm",
   "metadata": {},
   "outputs": [],
   "source": [
    "def ordinary():\n",
    "    print(\"I am ordinary\")"
   ]
  },
  {
   "cell_type": "code",
   "execution_count": 34,
   "id": "competent-barbados",
   "metadata": {},
   "outputs": [
    {
     "name": "stdout",
     "output_type": "stream",
     "text": [
      "I am ordinary\n"
     ]
    }
   ],
   "source": [
    "ordinary()"
   ]
  },
  {
   "cell_type": "code",
   "execution_count": 35,
   "id": "filled-press",
   "metadata": {},
   "outputs": [],
   "source": [
    "pretty = make_pretty(ordinary)"
   ]
  },
  {
   "cell_type": "code",
   "execution_count": 36,
   "id": "missing-confidentiality",
   "metadata": {},
   "outputs": [
    {
     "name": "stdout",
     "output_type": "stream",
     "text": [
      "I got decorated\n",
      "I am ordinary\n"
     ]
    }
   ],
   "source": [
    "pretty()"
   ]
  },
  {
   "cell_type": "markdown",
   "id": "brutal-korea",
   "metadata": {},
   "source": [
    "In the example shown above, make_pretty() is a decorator.\n",
    "\n",
    "The decorator acts as a wrapper. The nature of the object that got decorated does not alter.\n",
    "\n",
    "We can use the @ symbol along with the name of the decorator function and place it above the definition of the function to be decorated."
   ]
  },
  {
   "cell_type": "code",
   "execution_count": 37,
   "id": "funded-christopher",
   "metadata": {},
   "outputs": [],
   "source": [
    "@make_pretty\n",
    "def ordinary():\n",
    "    print(\"I am ordinary\")"
   ]
  },
  {
   "cell_type": "code",
   "execution_count": 38,
   "id": "shaped-suffering",
   "metadata": {},
   "outputs": [],
   "source": [
    "def smart_divide(func):\n",
    "    def inner(a,b):\n",
    "        print(\"I am going to divide\", a, \"and\", b)\n",
    "        if b == 0:\n",
    "            print(\"Whoops! cannot divide\")\n",
    "            return\n",
    "        return func(a,b)\n",
    "    return inner"
   ]
  },
  {
   "cell_type": "code",
   "execution_count": 39,
   "id": "excessive-subcommittee",
   "metadata": {},
   "outputs": [],
   "source": [
    "@smart_divide\n",
    "def divide(a,b):\n",
    "    print(a/b)"
   ]
  },
  {
   "cell_type": "code",
   "execution_count": 40,
   "id": "revised-sherman",
   "metadata": {},
   "outputs": [
    {
     "name": "stdout",
     "output_type": "stream",
     "text": [
      "I am going to divide 2 and 5\n",
      "0.4\n"
     ]
    }
   ],
   "source": [
    "divide(2,5)"
   ]
  },
  {
   "cell_type": "code",
   "execution_count": 41,
   "id": "worst-table",
   "metadata": {},
   "outputs": [
    {
     "name": "stdout",
     "output_type": "stream",
     "text": [
      "I am going to divide 5 and 0\n",
      "Whoops! cannot divide\n"
     ]
    }
   ],
   "source": [
    "divide(5,0)"
   ]
  },
  {
   "cell_type": "markdown",
   "id": "cooked-nowhere",
   "metadata": {},
   "source": [
    "### Default Argument Values"
   ]
  },
  {
   "cell_type": "markdown",
   "id": "caroline-replacement",
   "metadata": {},
   "source": [
    "The most useful form is to specify a default value for one or more arguments. This creates a function that can be called with fewer argumentsd than it is defined to allow."
   ]
  },
  {
   "cell_type": "code",
   "execution_count": 42,
   "id": "smaller-dressing",
   "metadata": {},
   "outputs": [],
   "source": [
    "def ask_ok(prompt, retries=4, reminder='Please try again!'):\n",
    "    while True:\n",
    "        ok = input(prompt)\n",
    "        if ok in ('y', 'ye', 'yes'):\n",
    "            return True\n",
    "        if ok in ('n', 'no', 'nop', 'nope'):\n",
    "            return False\n",
    "        retries = retries - 1\n",
    "        if retries < 0:\n",
    "            raise ValueError('invalid user response')\n",
    "        print(reminder)"
   ]
  },
  {
   "cell_type": "markdown",
   "id": "chinese-change",
   "metadata": {},
   "source": [
    "This function can be called in several ways:\n",
    "* giving only the mandatory arguments: ask_ok('Do you really want to quit?')\n",
    "* giving one of the optional arguments: ask_ok('Do you really want to quit?', 2)\n",
    "* or even giving all arguments: ask_ok('Do you really want to quit?', 2, 'Come on, only yes or no!')"
   ]
  },
  {
   "cell_type": "code",
   "execution_count": 44,
   "id": "horizontal-hearing",
   "metadata": {},
   "outputs": [
    {
     "name": "stdout",
     "output_type": "stream",
     "text": [
      "Do you really want to quit?no\n"
     ]
    },
    {
     "data": {
      "text/plain": [
       "False"
      ]
     },
     "execution_count": 44,
     "metadata": {},
     "output_type": "execute_result"
    }
   ],
   "source": [
    "ask_ok('Do you really want to quit?')"
   ]
  },
  {
   "cell_type": "code",
   "execution_count": 45,
   "id": "postal-passing",
   "metadata": {},
   "outputs": [
    {
     "name": "stdout",
     "output_type": "stream",
     "text": [
      "Do you really want to quit?hello world\n",
      "Please try again!\n",
      "Do you really want to quit?jk\n",
      "Please try again!\n",
      "Do you really want to quit?yes\n"
     ]
    },
    {
     "data": {
      "text/plain": [
       "True"
      ]
     },
     "execution_count": 45,
     "metadata": {},
     "output_type": "execute_result"
    }
   ],
   "source": [
    "ask_ok('Do you really want to quit?',2)"
   ]
  },
  {
   "cell_type": "code",
   "execution_count": 46,
   "id": "nominated-tissue",
   "metadata": {},
   "outputs": [
    {
     "name": "stdout",
     "output_type": "stream",
     "text": [
      "Do you really want to quit?jool\n",
      "Please try again!\n",
      "Do you really want to quit?hi\n",
      "Please try again!\n",
      "Do you really want to quit?jsl\n"
     ]
    },
    {
     "ename": "ValueError",
     "evalue": "invalid user response",
     "output_type": "error",
     "traceback": [
      "\u001b[1;31m---------------------------------------------------------------------------\u001b[0m",
      "\u001b[1;31mValueError\u001b[0m                                Traceback (most recent call last)",
      "\u001b[1;32m<ipython-input-46-8f30043995a4>\u001b[0m in \u001b[0;36m<module>\u001b[1;34m\u001b[0m\n\u001b[1;32m----> 1\u001b[1;33m \u001b[0mask_ok\u001b[0m\u001b[1;33m(\u001b[0m\u001b[1;34m'Do you really want to quit?'\u001b[0m\u001b[1;33m,\u001b[0m\u001b[1;36m2\u001b[0m\u001b[1;33m)\u001b[0m\u001b[1;33m\u001b[0m\u001b[1;33m\u001b[0m\u001b[0m\n\u001b[0m",
      "\u001b[1;32m<ipython-input-42-16d7c37266ff>\u001b[0m in \u001b[0;36mask_ok\u001b[1;34m(prompt, retries, reminder)\u001b[0m\n\u001b[0;32m      8\u001b[0m         \u001b[0mretries\u001b[0m \u001b[1;33m=\u001b[0m \u001b[0mretries\u001b[0m \u001b[1;33m-\u001b[0m \u001b[1;36m1\u001b[0m\u001b[1;33m\u001b[0m\u001b[1;33m\u001b[0m\u001b[0m\n\u001b[0;32m      9\u001b[0m         \u001b[1;32mif\u001b[0m \u001b[0mretries\u001b[0m \u001b[1;33m<\u001b[0m \u001b[1;36m0\u001b[0m\u001b[1;33m:\u001b[0m\u001b[1;33m\u001b[0m\u001b[1;33m\u001b[0m\u001b[0m\n\u001b[1;32m---> 10\u001b[1;33m             \u001b[1;32mraise\u001b[0m \u001b[0mValueError\u001b[0m\u001b[1;33m(\u001b[0m\u001b[1;34m'invalid user response'\u001b[0m\u001b[1;33m)\u001b[0m\u001b[1;33m\u001b[0m\u001b[1;33m\u001b[0m\u001b[0m\n\u001b[0m\u001b[0;32m     11\u001b[0m         \u001b[0mprint\u001b[0m\u001b[1;33m(\u001b[0m\u001b[0mreminder\u001b[0m\u001b[1;33m)\u001b[0m\u001b[1;33m\u001b[0m\u001b[1;33m\u001b[0m\u001b[0m\n",
      "\u001b[1;31mValueError\u001b[0m: invalid user response"
     ]
    }
   ],
   "source": [
    "ask_ok('Do you really want to quit?',2)"
   ]
  },
  {
   "cell_type": "code",
   "execution_count": 47,
   "id": "aboriginal-presentation",
   "metadata": {},
   "outputs": [
    {
     "name": "stdout",
     "output_type": "stream",
     "text": [
      "Do you really want to quit?yes\n"
     ]
    },
    {
     "data": {
      "text/plain": [
       "True"
      ]
     },
     "execution_count": 47,
     "metadata": {},
     "output_type": "execute_result"
    }
   ],
   "source": [
    "ask_ok('Do you really want to quit?', 2, 'Come on, only yes or no!')"
   ]
  },
  {
   "cell_type": "markdown",
   "id": "tough-pizza",
   "metadata": {},
   "source": [
    "### Keyword Arguments"
   ]
  },
  {
   "cell_type": "markdown",
   "id": "mineral-paste",
   "metadata": {},
   "source": [
    "Functions can also be called using keyword arguments of the form *kwarg=value.*"
   ]
  },
  {
   "cell_type": "code",
   "execution_count": 48,
   "id": "classified-organization",
   "metadata": {},
   "outputs": [],
   "source": [
    "def parrot(voltage, state='a stiff', action='voom', type='Norwegian Blue'):\n",
    "    print(\"-- This parrot wouldn't\", action, end=' ')\n",
    "    print(\"if you put\", voltage, \"volts through it.\")\n",
    "    print(\"-- Lovely plumage, the\", type)\n",
    "    print(\"-- It's\", state, \"!\")\n"
   ]
  },
  {
   "cell_type": "markdown",
   "id": "requested-criterion",
   "metadata": {},
   "source": [
    "the above function accepts one required argument and three optional arguments. This function can be called in any of the following ways:\n",
    "\n",
    "|function calling|arguments|\n",
    "|-|-|\n",
    "|parrot(1000)|# 1 positional argument\n",
    "|parrot(voltage=1000)|# 1 keyword argument\n",
    "|parrot(voltage=1000000, action='VOOOOOM')|# 2 keyword arguments\n",
    "|parrot(action='VOOOOOM', voltage=1000000)|# 2 keyword arguments\n",
    "|parrot('a million', 'bereft of life', 'jump')|# 3 positional arguments\n",
    "|parrot('a thousand', state='pushing up the daisies')|# 1 positional, 1 keyword\n",
    "\n",
    "but all the following calls would be invalid:\n",
    "\n",
    "|function call|argument|\n",
    "|-|-|\n",
    "|parrot()                   |  # required argument missing|\n",
    "|parrot(voltage=5.0, 'dead') | # non-keyword argument after a keyword argument|\n",
    "|parrot(110, voltage=220)     |# duplicate value for the same argument|\n",
    "|parrot(actor='John Cleese')  |# unknown keyword argument|"
   ]
  },
  {
   "cell_type": "code",
   "execution_count": 49,
   "id": "southern-parade",
   "metadata": {},
   "outputs": [
    {
     "name": "stdout",
     "output_type": "stream",
     "text": [
      "-- This parrot wouldn't jump if you put a million volts through it.\n",
      "-- Lovely plumage, the Norwegian Blue\n",
      "-- It's bereft of life !\n"
     ]
    }
   ],
   "source": [
    "parrot('a million', 'bereft of life', 'jump')"
   ]
  },
  {
   "cell_type": "code",
   "execution_count": 50,
   "id": "wrapped-kidney",
   "metadata": {},
   "outputs": [
    {
     "ename": "SyntaxError",
     "evalue": "positional argument follows keyword argument (<ipython-input-50-d50f269134a5>, line 1)",
     "output_type": "error",
     "traceback": [
      "\u001b[1;36m  File \u001b[1;32m\"<ipython-input-50-d50f269134a5>\"\u001b[1;36m, line \u001b[1;32m1\u001b[0m\n\u001b[1;33m    parrot(voltage=5.0, 'dead')\u001b[0m\n\u001b[1;37m                        ^\u001b[0m\n\u001b[1;31mSyntaxError\u001b[0m\u001b[1;31m:\u001b[0m positional argument follows keyword argument\n"
     ]
    }
   ],
   "source": [
    "parrot(voltage=5.0, 'dead')"
   ]
  },
  {
   "cell_type": "markdown",
   "id": "analyzed-atlas",
   "metadata": {},
   "source": [
    "In function call, keyword arguments must follow positional arguments. All the keyword arguments passed must match one of the arguments accepted by the function and their order is not important.\n",
    "\n",
    "This is also includes non-optional arguments (e.g. parrot(voltage=1000) is valid too)."
   ]
  },
  {
   "cell_type": "markdown",
   "id": "exciting-penalty",
   "metadata": {},
   "source": [
    "When formal parameter of form **name is present, it receives a dictionary containing all keywords arguments except for those corresponding to a formal parameter."
   ]
  },
  {
   "cell_type": "markdown",
   "id": "cloudy-entrance",
   "metadata": {},
   "source": [
    "When formal parameter of form *name which receives a tuple containing the positional arguments beyond the formal parameter list."
   ]
  },
  {
   "cell_type": "code",
   "execution_count": 51,
   "id": "improved-majority",
   "metadata": {},
   "outputs": [],
   "source": [
    "def cheeseshop(kind, *arguments, **keywords):\n",
    "    print(\"-- Do you have any\", kind, \"?\")\n",
    "    print(\"-- I'm sorry, we're all out of\", kind)\n",
    "    for arg in arguments:\n",
    "        print(arg)\n",
    "    print(\"-\" * 40)\n",
    "    for kw in keywords:\n",
    "        print(kw, \":\", keywords[kw])\n"
   ]
  },
  {
   "cell_type": "code",
   "execution_count": 52,
   "id": "patent-tonight",
   "metadata": {},
   "outputs": [
    {
     "name": "stdout",
     "output_type": "stream",
     "text": [
      "-- Do you have any Limburger ?\n",
      "-- I'm sorry, we're all out of Limburger\n",
      "It's very runny, sir.\n",
      "It's really very, VERY runny, sir.\n",
      "----------------------------------------\n",
      "shopkeeper : Michael Palin\n",
      "client : John Cleese\n",
      "sketch : Cheese Shop Sketch\n"
     ]
    }
   ],
   "source": [
    "cheeseshop(\"Limburger\", \"It's very runny, sir.\",\n",
    "           \"It's really very, VERY runny, sir.\",\n",
    "           shopkeeper=\"Michael Palin\",\n",
    "           client=\"John Cleese\",\n",
    "           sketch=\"Cheese Shop Sketch\")"
   ]
  },
  {
   "cell_type": "markdown",
   "id": "comprehensive-singing",
   "metadata": {},
   "source": [
    "### Specific Parameters"
   ]
  },
  {
   "cell_type": "markdown",
   "id": "restricted-equity",
   "metadata": {},
   "source": [
    "|Specific Parameters|Arguments|Name|\n",
    "|-|-|-|\n",
    "|/ and * are not present in function definition|arguments may be position or keyword|Positional-or-Keyword Arguments|\n",
    "|/ is present before the arguments|parameter order matters and keyword parameters cannot be passed|Positional-Only Parameters|\n",
    "|* is present before the arguments|parameter order not matters and positinal parameters cannot be passed|Keyword-Only Arguments|"
   ]
  },
  {
   "cell_type": "code",
   "execution_count": 53,
   "id": "together-journey",
   "metadata": {},
   "outputs": [],
   "source": [
    "def standard_arg(arg):\n",
    "    print(arg)\n",
    "    \n",
    "def pos_only_arg(arg,/):\n",
    "    print(arg)\n",
    "    \n",
    "def kwd_only_arg(*,arg):\n",
    "    print(arg)\n",
    "\n",
    "def combined_example(pos_only,/,standard,*,kwd_only):\n",
    "    print(pos_only, standard, kwd_only)"
   ]
  },
  {
   "cell_type": "code",
   "execution_count": 54,
   "id": "unavailable-deadline",
   "metadata": {},
   "outputs": [
    {
     "name": "stdout",
     "output_type": "stream",
     "text": [
      "2\n"
     ]
    }
   ],
   "source": [
    "standard_arg(2)"
   ]
  },
  {
   "cell_type": "code",
   "execution_count": 55,
   "id": "adapted-radical",
   "metadata": {},
   "outputs": [
    {
     "name": "stdout",
     "output_type": "stream",
     "text": [
      "2\n"
     ]
    }
   ],
   "source": [
    "standard_arg(arg=2)"
   ]
  },
  {
   "cell_type": "code",
   "execution_count": 56,
   "id": "chinese-chest",
   "metadata": {},
   "outputs": [
    {
     "name": "stdout",
     "output_type": "stream",
     "text": [
      "1\n"
     ]
    }
   ],
   "source": [
    "pos_only_arg(1)"
   ]
  },
  {
   "cell_type": "code",
   "execution_count": 57,
   "id": "instructional-vienna",
   "metadata": {},
   "outputs": [
    {
     "ename": "TypeError",
     "evalue": "pos_only_arg() got some positional-only arguments passed as keyword arguments: 'arg'",
     "output_type": "error",
     "traceback": [
      "\u001b[1;31m---------------------------------------------------------------------------\u001b[0m",
      "\u001b[1;31mTypeError\u001b[0m                                 Traceback (most recent call last)",
      "\u001b[1;32m<ipython-input-57-434db44f4ff9>\u001b[0m in \u001b[0;36m<module>\u001b[1;34m\u001b[0m\n\u001b[1;32m----> 1\u001b[1;33m \u001b[0mpos_only_arg\u001b[0m\u001b[1;33m(\u001b[0m\u001b[0marg\u001b[0m\u001b[1;33m=\u001b[0m\u001b[1;36m1\u001b[0m\u001b[1;33m)\u001b[0m\u001b[1;33m\u001b[0m\u001b[1;33m\u001b[0m\u001b[0m\n\u001b[0m",
      "\u001b[1;31mTypeError\u001b[0m: pos_only_arg() got some positional-only arguments passed as keyword arguments: 'arg'"
     ]
    }
   ],
   "source": [
    "pos_only_arg(arg=1)"
   ]
  },
  {
   "cell_type": "code",
   "execution_count": 58,
   "id": "reported-television",
   "metadata": {},
   "outputs": [
    {
     "ename": "TypeError",
     "evalue": "kwd_only_arg() takes 0 positional arguments but 1 was given",
     "output_type": "error",
     "traceback": [
      "\u001b[1;31m---------------------------------------------------------------------------\u001b[0m",
      "\u001b[1;31mTypeError\u001b[0m                                 Traceback (most recent call last)",
      "\u001b[1;32m<ipython-input-58-e6e9a1a2a268>\u001b[0m in \u001b[0;36m<module>\u001b[1;34m\u001b[0m\n\u001b[1;32m----> 1\u001b[1;33m \u001b[0mkwd_only_arg\u001b[0m\u001b[1;33m(\u001b[0m\u001b[1;36m1\u001b[0m\u001b[1;33m)\u001b[0m\u001b[1;33m\u001b[0m\u001b[1;33m\u001b[0m\u001b[0m\n\u001b[0m",
      "\u001b[1;31mTypeError\u001b[0m: kwd_only_arg() takes 0 positional arguments but 1 was given"
     ]
    }
   ],
   "source": [
    "kwd_only_arg(1)"
   ]
  },
  {
   "cell_type": "code",
   "execution_count": 59,
   "id": "iraqi-pricing",
   "metadata": {},
   "outputs": [
    {
     "name": "stdout",
     "output_type": "stream",
     "text": [
      "1\n"
     ]
    }
   ],
   "source": [
    "kwd_only_arg(arg=1)"
   ]
  },
  {
   "cell_type": "code",
   "execution_count": 60,
   "id": "forced-marking",
   "metadata": {},
   "outputs": [
    {
     "ename": "TypeError",
     "evalue": "combined_example() takes 2 positional arguments but 3 were given",
     "output_type": "error",
     "traceback": [
      "\u001b[1;31m---------------------------------------------------------------------------\u001b[0m",
      "\u001b[1;31mTypeError\u001b[0m                                 Traceback (most recent call last)",
      "\u001b[1;32m<ipython-input-60-037a05a37207>\u001b[0m in \u001b[0;36m<module>\u001b[1;34m\u001b[0m\n\u001b[1;32m----> 1\u001b[1;33m \u001b[0mcombined_example\u001b[0m\u001b[1;33m(\u001b[0m\u001b[1;36m1\u001b[0m\u001b[1;33m,\u001b[0m \u001b[1;36m2\u001b[0m\u001b[1;33m,\u001b[0m \u001b[1;36m3\u001b[0m\u001b[1;33m)\u001b[0m\u001b[1;33m\u001b[0m\u001b[1;33m\u001b[0m\u001b[0m\n\u001b[0m",
      "\u001b[1;31mTypeError\u001b[0m: combined_example() takes 2 positional arguments but 3 were given"
     ]
    }
   ],
   "source": [
    "combined_example(1, 2, 3)"
   ]
  },
  {
   "cell_type": "code",
   "execution_count": 61,
   "id": "liked-begin",
   "metadata": {},
   "outputs": [
    {
     "name": "stdout",
     "output_type": "stream",
     "text": [
      "1 2 3\n"
     ]
    }
   ],
   "source": [
    "combined_example(1,2,kwd_only=3)"
   ]
  },
  {
   "cell_type": "code",
   "execution_count": 62,
   "id": "vertical-lancaster",
   "metadata": {},
   "outputs": [
    {
     "name": "stdout",
     "output_type": "stream",
     "text": [
      "1 2 3\n"
     ]
    }
   ],
   "source": [
    "combined_example(1,standard=2,kwd_only=3)"
   ]
  },
  {
   "cell_type": "code",
   "execution_count": 63,
   "id": "eligible-horizon",
   "metadata": {},
   "outputs": [
    {
     "ename": "TypeError",
     "evalue": "combined_example() got some positional-only arguments passed as keyword arguments: 'pos_only'",
     "output_type": "error",
     "traceback": [
      "\u001b[1;31m---------------------------------------------------------------------------\u001b[0m",
      "\u001b[1;31mTypeError\u001b[0m                                 Traceback (most recent call last)",
      "\u001b[1;32m<ipython-input-63-1fbe39e3d366>\u001b[0m in \u001b[0;36m<module>\u001b[1;34m\u001b[0m\n\u001b[1;32m----> 1\u001b[1;33m \u001b[0mcombined_example\u001b[0m\u001b[1;33m(\u001b[0m\u001b[0mpos_only\u001b[0m\u001b[1;33m=\u001b[0m\u001b[1;36m1\u001b[0m\u001b[1;33m,\u001b[0m\u001b[0mstandard\u001b[0m\u001b[1;33m=\u001b[0m\u001b[1;36m2\u001b[0m\u001b[1;33m,\u001b[0m\u001b[0mkwd_only\u001b[0m\u001b[1;33m=\u001b[0m\u001b[1;36m3\u001b[0m\u001b[1;33m)\u001b[0m\u001b[1;33m\u001b[0m\u001b[1;33m\u001b[0m\u001b[0m\n\u001b[0m",
      "\u001b[1;31mTypeError\u001b[0m: combined_example() got some positional-only arguments passed as keyword arguments: 'pos_only'"
     ]
    }
   ],
   "source": [
    "combined_example(pos_only=1,standard=2,kwd_only=3)"
   ]
  },
  {
   "cell_type": "markdown",
   "id": "endangered-consciousness",
   "metadata": {},
   "source": [
    "### Unpacking Arguments Lists"
   ]
  },
  {
   "cell_type": "markdown",
   "id": "posted-springer",
   "metadata": {},
   "source": [
    "The reverse situation occurs when the arguments are already in a list or tuple but need to be unpacked for a function call requiring separate positional arguments.\n",
    "\n",
    "The *- operator is used tot upack the arguments out of a list or tuple"
   ]
  },
  {
   "cell_type": "code",
   "execution_count": 64,
   "id": "wireless-minute",
   "metadata": {},
   "outputs": [
    {
     "data": {
      "text/plain": [
       "[3, 4, 5]"
      ]
     },
     "execution_count": 64,
     "metadata": {},
     "output_type": "execute_result"
    }
   ],
   "source": [
    "list(range(3,6))"
   ]
  },
  {
   "cell_type": "code",
   "execution_count": 65,
   "id": "julian-indie",
   "metadata": {},
   "outputs": [
    {
     "data": {
      "text/plain": [
       "[3, 4, 5]"
      ]
     },
     "execution_count": 65,
     "metadata": {},
     "output_type": "execute_result"
    }
   ],
   "source": [
    "args = [3,6]\n",
    "list(range(*args))"
   ]
  },
  {
   "cell_type": "markdown",
   "id": "premier-conversion",
   "metadata": {},
   "source": [
    "In the same fastion, dictionaries can deliver keyword arguments with the **- operator"
   ]
  },
  {
   "cell_type": "code",
   "execution_count": 66,
   "id": "thorough-directive",
   "metadata": {},
   "outputs": [],
   "source": [
    "def parrot(voltage, state='a stiff', action='voom'):\n",
    "    print(\"-- This parrot wouldn't\", action, end=' ')\n",
    "    print(\"if you put\", voltage, \"volts through it.\", end=' ')\n",
    "    print(\"E's\", state, \"!\")"
   ]
  },
  {
   "cell_type": "code",
   "execution_count": 67,
   "id": "metric-gasoline",
   "metadata": {},
   "outputs": [],
   "source": [
    "d = {\"voltage\": \"four million\", \"state\": \"bleedin' demised\", \"action\": \"VOOM\"}"
   ]
  },
  {
   "cell_type": "code",
   "execution_count": 68,
   "id": "sublime-checkout",
   "metadata": {},
   "outputs": [
    {
     "name": "stdout",
     "output_type": "stream",
     "text": [
      "-- This parrot wouldn't VOOM if you put four million volts through it. E's bleedin' demised !\n"
     ]
    }
   ],
   "source": [
    "parrot(**d)"
   ]
  },
  {
   "cell_type": "markdown",
   "id": "ambient-majority",
   "metadata": {},
   "source": [
    "### Lambda Expressions"
   ]
  },
  {
   "cell_type": "markdown",
   "id": "understood-diesel",
   "metadata": {},
   "source": [
    "Small anonymous functions can be created with the lambda keyword. This function returns the sum of its two arguments: lambda a, b: a+b. Lambda functions can be used wherever function objects are required. \n",
    "\n",
    "Like nested function definitions, lambda functions can reference variables from the containing scope:\n",
    "\n",
    "            lambda arguments: expression"
   ]
  },
  {
   "cell_type": "code",
   "execution_count": 69,
   "id": "oriented-probe",
   "metadata": {},
   "outputs": [],
   "source": [
    "def make_increment(n):\n",
    "    return lambda x: x+n"
   ]
  },
  {
   "cell_type": "code",
   "execution_count": 70,
   "id": "incorrect-dodge",
   "metadata": {},
   "outputs": [],
   "source": [
    "f = make_increment(42)"
   ]
  },
  {
   "cell_type": "code",
   "execution_count": 71,
   "id": "processed-payday",
   "metadata": {},
   "outputs": [
    {
     "data": {
      "text/plain": [
       "42"
      ]
     },
     "execution_count": 71,
     "metadata": {},
     "output_type": "execute_result"
    }
   ],
   "source": [
    "f(0)"
   ]
  },
  {
   "cell_type": "code",
   "execution_count": 72,
   "id": "processed-cancer",
   "metadata": {},
   "outputs": [
    {
     "data": {
      "text/plain": [
       "43"
      ]
     },
     "execution_count": 72,
     "metadata": {},
     "output_type": "execute_result"
    }
   ],
   "source": [
    "f(1)"
   ]
  },
  {
   "cell_type": "markdown",
   "id": "complimentary-commercial",
   "metadata": {},
   "source": [
    "Another use is to pass a small function as an argument:"
   ]
  },
  {
   "cell_type": "code",
   "execution_count": 73,
   "id": "eight-envelope",
   "metadata": {},
   "outputs": [],
   "source": [
    "pairs = [(1, 'one'), (2, 'two'), (3, 'three'), (4, 'four')]\n",
    "pairs.sort(key=lambda pair: pair[1])"
   ]
  },
  {
   "cell_type": "code",
   "execution_count": 74,
   "id": "alleged-sustainability",
   "metadata": {},
   "outputs": [
    {
     "data": {
      "text/plain": [
       "[(4, 'four'), (1, 'one'), (3, 'three'), (2, 'two')]"
      ]
     },
     "execution_count": 74,
     "metadata": {},
     "output_type": "execute_result"
    }
   ],
   "source": [
    "pairs"
   ]
  },
  {
   "cell_type": "markdown",
   "id": "dominant-tyler",
   "metadata": {},
   "source": [
    "### Documentation Strings"
   ]
  },
  {
   "cell_type": "markdown",
   "id": "corporate-spanish",
   "metadata": {},
   "source": [
    "The first line should always be a short, concise summary of the object’s purpose. This line should begin with a capital letter and end with a period.\n",
    "\n",
    "If there are more lines in the documentation string, the second line should be blank, visually separating the summary from the rest of the description. \n",
    "\n",
    "The following lines should be one or more paragraphs describing the object’s calling conventions, its side effects, etc."
   ]
  },
  {
   "cell_type": "code",
   "execution_count": 75,
   "id": "adjustable-syracuse",
   "metadata": {},
   "outputs": [],
   "source": [
    "def my_function():\n",
    "    \"\"\"Do noting, but document it.\n",
    "    \n",
    "    No, really, it doesn't do anything.\n",
    "    \"\"\"\n",
    "    pass"
   ]
  },
  {
   "cell_type": "code",
   "execution_count": 76,
   "id": "elementary-astrology",
   "metadata": {
    "scrolled": true
   },
   "outputs": [
    {
     "name": "stdout",
     "output_type": "stream",
     "text": [
      "Do noting, but document it.\n",
      "    \n",
      "    No, really, it doesn't do anything.\n",
      "    \n"
     ]
    }
   ],
   "source": [
    "print(my_function.__doc__)"
   ]
  },
  {
   "cell_type": "markdown",
   "id": "mexican-conducting",
   "metadata": {},
   "source": [
    "### Function Annotations"
   ]
  },
  {
   "cell_type": "markdown",
   "id": "medical-garbage",
   "metadata": {},
   "source": [
    "Annotations are stored in the __annotations__ attribute of the function as a dictionary and have no effect on any other part of the function. Parameter annotations are defined by a colon after the parameter name, followed by an expression evaluating to the value of the annotation. \n",
    "\n",
    "Return annotations are defined by a literal ->, followed by an expression, between the parameter list and the colon denoting the end of the def statement."
   ]
  },
  {
   "cell_type": "code",
   "execution_count": 77,
   "id": "executed-calendar",
   "metadata": {},
   "outputs": [],
   "source": [
    "def f(ham: str, eggs: str = 'eggs') -> str:\n",
    "    print(\"Annotations:\", f.__annotations__)\n",
    "    print(\"Arguments:\", ham, eggs)\n",
    "    print(ham + ' and ' + eggs)"
   ]
  },
  {
   "cell_type": "code",
   "execution_count": 78,
   "id": "beneficial-grade",
   "metadata": {},
   "outputs": [
    {
     "name": "stdout",
     "output_type": "stream",
     "text": [
      "Annotations: {'ham': <class 'str'>, 'eggs': <class 'str'>, 'return': <class 'str'>}\n",
      "Arguments: spam eggs\n",
      "spam and eggs\n"
     ]
    }
   ],
   "source": [
    "f('spam')"
   ]
  }
 ],
 "metadata": {
  "kernelspec": {
   "display_name": "Python 3",
   "language": "python",
   "name": "python3"
  },
  "language_info": {
   "codemirror_mode": {
    "name": "ipython",
    "version": 3
   },
   "file_extension": ".py",
   "mimetype": "text/x-python",
   "name": "python",
   "nbconvert_exporter": "python",
   "pygments_lexer": "ipython3",
   "version": "3.8.5"
  }
 },
 "nbformat": 4,
 "nbformat_minor": 5
}
